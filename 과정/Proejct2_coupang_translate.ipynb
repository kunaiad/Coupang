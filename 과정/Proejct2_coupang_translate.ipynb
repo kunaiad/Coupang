{
 "cells": [
  {
   "cell_type": "code",
   "execution_count": 2,
   "metadata": {},
   "outputs": [],
   "source": [
    "\n",
    "import numpy as np\n",
    "import scipy as sp\n",
    "import pandas as pd\n",
    "import statsmodels.api as sm\n",
    "import statsmodels.formula.api as smf\n",
    "import statsmodels.stats.api as sms\n",
    "import sklearn as sk\n",
    "\n",
    "import matplotlib as mpl\n",
    "mpl.use('Agg')\n",
    "import matplotlib.pylab as plt\n",
    "from mpl_toolkits.mplot3d import Axes3D\n",
    "%matplotlib inline\n",
    "\n",
    "import seaborn as sns\n",
    "sns.set()\n",
    "sns.set_style(\"whitegrid\")\n",
    "sns.set_color_codes()\n",
    "\n",
    "import warnings\n",
    "\n",
    "warnings.filterwarnings('ignore')"
   ]
  },
  {
   "cell_type": "code",
   "execution_count": 3,
   "metadata": {},
   "outputs": [],
   "source": [
    "capsule = pd.read_csv('../Documents/GitHub/kaggle-coupon-purchase-prediction/'\n",
    "                      'input/CAPSULE.csv')\n",
    "genre = pd.read_csv('../Documents/GitHub/kaggle-coupon-purchase-prediction/'\n",
    "                      'input/GENRE.csv')\n",
    "largearea = pd.read_csv('../Documents/GitHub/kaggle-coupon-purchase-prediction/'\n",
    "                      'input/LARGEAREA.csv')\n",
    "pref = pd.read_csv('../Documents/GitHub/kaggle-coupon-purchase-prediction/'\n",
    "                      'input/PREF.csv')\n",
    "smallarea = pd.read_csv('../Documents/GitHub/kaggle-coupon-purchase-prediction/'\n",
    "                      'input/SMALLAREA.csv')"
   ]
  },
  {
   "cell_type": "markdown",
   "metadata": {},
   "source": [
    "### 데이터 불러오기"
   ]
  },
  {
   "cell_type": "code",
   "execution_count": 4,
   "metadata": {},
   "outputs": [],
   "source": [
    "# train \n",
    "area_train = pd.read_csv('coupon_data_project2/coupon_area_train.csv')\n",
    "detail_train = pd.read_csv('coupon_data_project2/coupon_detail_train.csv', parse_dates=['I_DATE'])\n",
    "visit_train = pd.read_csv('coupon_data_project2/coupon_visit_train.csv', parse_dates=['I_DATE'])\n",
    "\n",
    "coupon_list_train = pd.read_csv('coupon_data_project2/coupon_list_train.csv')\n",
    "\n",
    "# base data\n",
    "location = pd.read_csv('coupon_data_project2/prefecture_locations.csv')\n",
    "user_list = pd.read_csv('coupon_data_project2/user_list.csv')\n",
    "\n",
    "# test data\n",
    "area_test = pd.read_csv('coupon_data_project2/coupon_area_test.csv')\n",
    "list_test = pd.read_csv('coupon_data_project2/coupon_list_test.csv')\n",
    "\n",
    "# submisiion\n",
    "submission = pd.read_csv('coupon_data_project2/sample_submission.csv')"
   ]
  },
  {
   "cell_type": "markdown",
   "metadata": {},
   "source": [
    "### 번역하기"
   ]
  },
  {
   "cell_type": "markdown",
   "metadata": {},
   "source": [
    "- Translate area_train table: SMALL_AREA_NAME"
   ]
  },
  {
   "cell_type": "code",
   "execution_count": 5,
   "metadata": {},
   "outputs": [],
   "source": [
    "area_train.insert(2, 'en', area_train['SMALL_AREA_NAME'].map(smallarea.set_index('jp')['en']))\n",
    "area_train.drop(labels=['SMALL_AREA_NAME'], axis = 1, inplace = True)\n",
    "area_train.rename(columns = {'en':'SMALL_AREA_NAME'}, inplace = True)"
   ]
  },
  {
   "cell_type": "markdown",
   "metadata": {},
   "source": [
    "- Translate area_train table: SMALL_AREA_NAME"
   ]
  },
  {
   "cell_type": "code",
   "execution_count": 6,
   "metadata": {},
   "outputs": [],
   "source": [
    "area_train.insert(2, 'en', area_train['PREF_NAME'].map(pref.set_index('jp')['en']))\n",
    "area_train.drop(labels=['PREF_NAME'], axis = 1, inplace = True)\n",
    "area_train.rename(columns = {'en':'PREF_NAME'}, inplace=True)"
   ]
  },
  {
   "cell_type": "markdown",
   "metadata": {},
   "source": [
    "- detail_trian, SMALL_AREA_NAME"
   ]
  },
  {
   "cell_type": "code",
   "execution_count": 7,
   "metadata": {},
   "outputs": [],
   "source": [
    "detail_train.insert(2, 'en', detail_train['SMALL_AREA_NAME'].map(smallarea.set_index('jp')['en']))\n",
    "detail_train.drop(labels=['SMALL_AREA_NAME'], axis = 1, inplace=True)\n",
    "detail_train.rename(columns = {'en':'SMALL_AREA_NAME'}, inplace=True)"
   ]
  },
  {
   "cell_type": "markdown",
   "metadata": {},
   "source": [
    "- list_copun, large_area_name / small_area_name / capsule_text / genre_name"
   ]
  },
  {
   "cell_type": "code",
   "execution_count": 8,
   "metadata": {},
   "outputs": [],
   "source": [
    "coupon_list_train.insert(2, 'en', coupon_list_train['large_area_name'].map(largearea.set_index('jp')['en']))\n",
    "coupon_list_train.drop(labels=['large_area_name'], axis=1, inplace=True)\n",
    "coupon_list_train.rename(columns = {'en':'large_area_name'}, inplace=True)"
   ]
  },
  {
   "cell_type": "code",
   "execution_count": 9,
   "metadata": {},
   "outputs": [],
   "source": [
    "coupon_list_train.insert(2, 'en', coupon_list_train['small_area_name'].map(smallarea.set_index('jp')['en']))\n",
    "coupon_list_train.drop(labels=['small_area_name'], axis=1, inplace=True)\n",
    "coupon_list_train.rename(columns = {'en':'small_area_name'}, inplace=True)"
   ]
  },
  {
   "cell_type": "code",
   "execution_count": 10,
   "metadata": {},
   "outputs": [],
   "source": [
    "coupon_list_train.insert(2, 'en', coupon_list_train['CAPSULE_TEXT'].map(capsule.set_index('jp')['en']))\n",
    "coupon_list_train.drop(labels=['CAPSULE_TEXT'], axis=1, inplace=True)\n",
    "coupon_list_train.rename(columns = {'en':'CAPSULE_TEXT'}, inplace=True)"
   ]
  },
  {
   "cell_type": "code",
   "execution_count": 11,
   "metadata": {},
   "outputs": [],
   "source": [
    "coupon_list_train.insert(2, 'en', coupon_list_train['GENRE_NAME'].map(genre.set_index('jp')['en']))\n",
    "coupon_list_train.drop(labels=['GENRE_NAME'], axis=1, inplace=True)\n",
    "coupon_list_train.rename(columns = {'en':'GENRE_NAME'}, inplace=True)"
   ]
  },
  {
   "cell_type": "markdown",
   "metadata": {},
   "source": [
    "- user_list"
   ]
  },
  {
   "cell_type": "code",
   "execution_count": 12,
   "metadata": {},
   "outputs": [],
   "source": [
    "user_list.insert(2, 'en', user_list['PREF_NAME'].map(pref.set_index('jp')['en']))\n",
    "user_list.drop(labels=['PREF_NAME'], axis=1, inplace=True)\n",
    "user_list.rename(columns = {'en':'PREF_NAME'}, inplace=True)"
   ]
  },
  {
   "cell_type": "markdown",
   "metadata": {},
   "source": [
    "### to_csv"
   ]
  },
  {
   "cell_type": "code",
   "execution_count": 21,
   "metadata": {},
   "outputs": [],
   "source": [
    "# area_train.to_csv('../Dropbox/data_test/area_train.csv', sep=',', encoding = 'utf-8')\n",
    "# detail_train.to_csv('../Dropbox/data_test/detail_train.csv', sep=',', encoding = 'utf-8')\n",
    "# list_train.to_csv('../Dropbox/data_test/list_train.csv', sep=',', encoding = 'utf-8')\n",
    "# user_list.to_csv('../Dropbox/data_test/user_train.csv', sep=',', encoding = 'utf-8')"
   ]
  },
  {
   "cell_type": "markdown",
   "metadata": {},
   "source": [
    "## 1) 통합 테이블 형성"
   ]
  },
  {
   "cell_type": "markdown",
   "metadata": {},
   "source": [
    "### 1-1) VIEW_COUPON_ID_hash -> COUPON_ID_hash 로 변경"
   ]
  },
  {
   "cell_type": "code",
   "execution_count": 15,
   "metadata": {},
   "outputs": [],
   "source": [
    "# VIEW_COUPON_ID_hash -> COUPON_ID_hash 로 변경\n",
    "visit_train.rename(columns={'VIEW_COUPON_ID_hash': 'COUPON_ID_hash'}, inplace=True)"
   ]
  },
  {
   "cell_type": "markdown",
   "metadata": {},
   "source": [
    "### 1-2) detail & vist merge(A column 추가)\n",
    "- 방문(visit) 과 실제 구매(detail)의 상관관계 분석을 위한 사전 구분자 추가"
   ]
  },
  {
   "cell_type": "code",
   "execution_count": 16,
   "metadata": {},
   "outputs": [],
   "source": [
    "detail_train['A'] = 'detail'\n",
    "visit_train['A'] = 'visit'"
   ]
  },
  {
   "cell_type": "code",
   "execution_count": 17,
   "metadata": {},
   "outputs": [],
   "source": [
    "train = pd.merge(detail_train, visit_train, how='outer')"
   ]
  },
  {
   "cell_type": "code",
   "execution_count": 21,
   "metadata": {},
   "outputs": [
    {
     "data": {
      "text/plain": [
       "3002176"
      ]
     },
     "execution_count": 21,
     "metadata": {},
     "output_type": "execute_result"
    }
   ],
   "source": [
    "train.shape[0]"
   ]
  },
  {
   "cell_type": "code",
   "execution_count": 15,
   "metadata": {},
   "outputs": [],
   "source": [
    "# train.to_csv('train.csv', sep=',', encoding='utf-8')"
   ]
  },
  {
   "cell_type": "code",
   "execution_count": 22,
   "metadata": {},
   "outputs": [],
   "source": [
    "def summary_table(table):\n",
    "    df = pd.DataFrame()\n",
    "    for i in table.columns:\n",
    "        name = i\n",
    "        dtype = table[i].dtype.name\n",
    "        null = table[i].isnull().sum()\n",
    "        act = table.shape[0] - null\n",
    "        distinct = len(table[i].unique())\n",
    "        data = {'name': name, 'dtype': dtype, 'null': null, 'act':act, 'distinct': distinct}\n",
    "        df = df.append(data, ignore_index=True)\n",
    "    \n",
    "    return df"
   ]
  },
  {
   "cell_type": "code",
   "execution_count": 23,
   "metadata": {},
   "outputs": [
    {
     "data": {
      "text/html": [
       "<div>\n",
       "<style scoped>\n",
       "    .dataframe tbody tr th:only-of-type {\n",
       "        vertical-align: middle;\n",
       "    }\n",
       "\n",
       "    .dataframe tbody tr th {\n",
       "        vertical-align: top;\n",
       "    }\n",
       "\n",
       "    .dataframe thead th {\n",
       "        text-align: right;\n",
       "    }\n",
       "</style>\n",
       "<table border=\"1\" class=\"dataframe\">\n",
       "  <thead>\n",
       "    <tr style=\"text-align: right;\">\n",
       "      <th></th>\n",
       "      <th>act</th>\n",
       "      <th>distinct</th>\n",
       "      <th>dtype</th>\n",
       "      <th>name</th>\n",
       "      <th>null</th>\n",
       "    </tr>\n",
       "  </thead>\n",
       "  <tbody>\n",
       "    <tr>\n",
       "      <th>0</th>\n",
       "      <td>168996.0</td>\n",
       "      <td>33.0</td>\n",
       "      <td>float64</td>\n",
       "      <td>ITEM_COUNT</td>\n",
       "      <td>2833180.0</td>\n",
       "    </tr>\n",
       "    <tr>\n",
       "      <th>1</th>\n",
       "      <td>3002176.0</td>\n",
       "      <td>2784216.0</td>\n",
       "      <td>datetime64[ns]</td>\n",
       "      <td>I_DATE</td>\n",
       "      <td>0.0</td>\n",
       "    </tr>\n",
       "    <tr>\n",
       "      <th>2</th>\n",
       "      <td>168996.0</td>\n",
       "      <td>56.0</td>\n",
       "      <td>object</td>\n",
       "      <td>SMALL_AREA_NAME</td>\n",
       "      <td>2833180.0</td>\n",
       "    </tr>\n",
       "    <tr>\n",
       "      <th>3</th>\n",
       "      <td>291385.0</td>\n",
       "      <td>168997.0</td>\n",
       "      <td>object</td>\n",
       "      <td>PURCHASEID_hash</td>\n",
       "      <td>2710791.0</td>\n",
       "    </tr>\n",
       "    <tr>\n",
       "      <th>4</th>\n",
       "      <td>3002176.0</td>\n",
       "      <td>22833.0</td>\n",
       "      <td>object</td>\n",
       "      <td>USER_ID_hash</td>\n",
       "      <td>0.0</td>\n",
       "    </tr>\n",
       "    <tr>\n",
       "      <th>5</th>\n",
       "      <td>3002176.0</td>\n",
       "      <td>32629.0</td>\n",
       "      <td>object</td>\n",
       "      <td>COUPON_ID_hash</td>\n",
       "      <td>0.0</td>\n",
       "    </tr>\n",
       "    <tr>\n",
       "      <th>6</th>\n",
       "      <td>3002176.0</td>\n",
       "      <td>2.0</td>\n",
       "      <td>object</td>\n",
       "      <td>A</td>\n",
       "      <td>0.0</td>\n",
       "    </tr>\n",
       "    <tr>\n",
       "      <th>7</th>\n",
       "      <td>2833180.0</td>\n",
       "      <td>3.0</td>\n",
       "      <td>float64</td>\n",
       "      <td>PURCHASE_FLG</td>\n",
       "      <td>168996.0</td>\n",
       "    </tr>\n",
       "    <tr>\n",
       "      <th>8</th>\n",
       "      <td>2833180.0</td>\n",
       "      <td>467.0</td>\n",
       "      <td>float64</td>\n",
       "      <td>PAGE_SERIAL</td>\n",
       "      <td>168996.0</td>\n",
       "    </tr>\n",
       "    <tr>\n",
       "      <th>9</th>\n",
       "      <td>2833180.0</td>\n",
       "      <td>97320.0</td>\n",
       "      <td>object</td>\n",
       "      <td>REFERRER_hash</td>\n",
       "      <td>168996.0</td>\n",
       "    </tr>\n",
       "    <tr>\n",
       "      <th>10</th>\n",
       "      <td>2833180.0</td>\n",
       "      <td>1046180.0</td>\n",
       "      <td>object</td>\n",
       "      <td>SESSION_ID_hash</td>\n",
       "      <td>168996.0</td>\n",
       "    </tr>\n",
       "  </tbody>\n",
       "</table>\n",
       "</div>"
      ],
      "text/plain": [
       "          act   distinct           dtype             name       null\n",
       "0    168996.0       33.0         float64       ITEM_COUNT  2833180.0\n",
       "1   3002176.0  2784216.0  datetime64[ns]           I_DATE        0.0\n",
       "2    168996.0       56.0          object  SMALL_AREA_NAME  2833180.0\n",
       "3    291385.0   168997.0          object  PURCHASEID_hash  2710791.0\n",
       "4   3002176.0    22833.0          object     USER_ID_hash        0.0\n",
       "5   3002176.0    32629.0          object   COUPON_ID_hash        0.0\n",
       "6   3002176.0        2.0          object                A        0.0\n",
       "7   2833180.0        3.0         float64     PURCHASE_FLG   168996.0\n",
       "8   2833180.0      467.0         float64      PAGE_SERIAL   168996.0\n",
       "9   2833180.0    97320.0          object    REFERRER_hash   168996.0\n",
       "10  2833180.0  1046180.0          object  SESSION_ID_hash   168996.0"
      ]
     },
     "execution_count": 23,
     "metadata": {},
     "output_type": "execute_result"
    }
   ],
   "source": [
    "summary_table(train)"
   ]
  },
  {
   "cell_type": "code",
   "execution_count": 25,
   "metadata": {},
   "outputs": [
    {
     "data": {
      "text/html": [
       "<div>\n",
       "<style scoped>\n",
       "    .dataframe tbody tr th:only-of-type {\n",
       "        vertical-align: middle;\n",
       "    }\n",
       "\n",
       "    .dataframe tbody tr th {\n",
       "        vertical-align: top;\n",
       "    }\n",
       "\n",
       "    .dataframe thead th {\n",
       "        text-align: right;\n",
       "    }\n",
       "</style>\n",
       "<table border=\"1\" class=\"dataframe\">\n",
       "  <thead>\n",
       "    <tr style=\"text-align: right;\">\n",
       "      <th>A</th>\n",
       "      <th>detail</th>\n",
       "      <th>visit</th>\n",
       "    </tr>\n",
       "  </thead>\n",
       "  <tbody>\n",
       "    <tr>\n",
       "      <th>Count</th>\n",
       "      <td>168996.0</td>\n",
       "      <td>2833180.0</td>\n",
       "    </tr>\n",
       "    <tr>\n",
       "      <th>ITEM_COUNT</th>\n",
       "      <td>241823.0</td>\n",
       "      <td>0.0</td>\n",
       "    </tr>\n",
       "  </tbody>\n",
       "</table>\n",
       "</div>"
      ],
      "text/plain": [
       "A             detail      visit\n",
       "Count       168996.0  2833180.0\n",
       "ITEM_COUNT  241823.0        0.0"
      ]
     },
     "execution_count": 25,
     "metadata": {},
     "output_type": "execute_result"
    }
   ],
   "source": [
    "train['Count'] = 1\n",
    "train.pivot_table(columns=['A'], values= ['Count', 'ITEM_COUNT'], aggfunc=np.sum)"
   ]
  },
  {
   "cell_type": "markdown",
   "metadata": {},
   "source": [
    "### 1-3) location & area_train Merge, 기준: PREF_NAME"
   ]
  },
  {
   "cell_type": "code",
   "execution_count": 26,
   "metadata": {},
   "outputs": [],
   "source": [
    "area_base = pd.merge(area_train, location, on='PREF_NAME')"
   ]
  },
  {
   "cell_type": "code",
   "execution_count": 27,
   "metadata": {},
   "outputs": [
    {
     "name": "stdout",
     "output_type": "stream",
     "text": [
      "(138185, 3)(area_train) + (47, 4)(location) = (0, 6)(area_base)\n"
     ]
    }
   ],
   "source": [
    "print('{}(area_train) + {}(location) = {}(area_base)'.format(area_train.shape, location.shape, area_base.shape))"
   ]
  },
  {
   "cell_type": "markdown",
   "metadata": {},
   "source": [
    "### 1-4) train & area_base Merge, 기준: COUPON_ID_hash"
   ]
  },
  {
   "cell_type": "code",
   "execution_count": 28,
   "metadata": {},
   "outputs": [],
   "source": [
    "train2 = pd.merge(train, area_base, how='left', on='COUPON_ID_hash')"
   ]
  },
  {
   "cell_type": "code",
   "execution_count": 29,
   "metadata": {},
   "outputs": [
    {
     "data": {
      "text/plain": [
       "(3002176, 17)"
      ]
     },
     "execution_count": 29,
     "metadata": {},
     "output_type": "execute_result"
    }
   ],
   "source": [
    "train2.shape"
   ]
  },
  {
   "cell_type": "markdown",
   "metadata": {},
   "source": [
    "### 1-5) train2 & user_list Merge, 기준: USER_ID_hash"
   ]
  },
  {
   "cell_type": "code",
   "execution_count": 30,
   "metadata": {},
   "outputs": [],
   "source": [
    "train3 = pd.merge(train2, user_list, on='USER_ID_hash')"
   ]
  },
  {
   "cell_type": "code",
   "execution_count": 31,
   "metadata": {},
   "outputs": [
    {
     "data": {
      "text/plain": [
       "(3002176, 22)"
      ]
     },
     "execution_count": 31,
     "metadata": {},
     "output_type": "execute_result"
    }
   ],
   "source": [
    "train3.shape"
   ]
  },
  {
   "cell_type": "markdown",
   "metadata": {},
   "source": [
    "### 1-6) train3 & coupon_list_train Merge, 기준: COUPON_ID_hash"
   ]
  },
  {
   "cell_type": "code",
   "execution_count": 33,
   "metadata": {},
   "outputs": [],
   "source": [
    "train4 = pd.merge(train3, coupon_list_train, on='COUPON_ID_hash')"
   ]
  },
  {
   "cell_type": "code",
   "execution_count": 34,
   "metadata": {},
   "outputs": [
    {
     "data": {
      "text/plain": [
       "(2686202, 45)"
      ]
     },
     "execution_count": 34,
     "metadata": {},
     "output_type": "execute_result"
    }
   ],
   "source": [
    "train4.shape"
   ]
  },
  {
   "cell_type": "code",
   "execution_count": null,
   "metadata": {},
   "outputs": [],
   "source": []
  }
 ],
 "metadata": {
  "kernelspec": {
   "display_name": "Python 3",
   "language": "python",
   "name": "python3"
  },
  "language_info": {
   "codemirror_mode": {
    "name": "ipython",
    "version": 3
   },
   "file_extension": ".py",
   "mimetype": "text/x-python",
   "name": "python",
   "nbconvert_exporter": "python",
   "pygments_lexer": "ipython3",
   "version": "3.6.4"
  }
 },
 "nbformat": 4,
 "nbformat_minor": 2
}
