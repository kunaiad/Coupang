{
 "cells": [
  {
   "cell_type": "code",
   "execution_count": 1,
   "metadata": {},
   "outputs": [
    {
     "name": "stdout",
     "output_type": "stream",
     "text": [
      "(168996, 6)\n",
      "(2833180, 5)\n",
      "(2913043, 8)\n"
     ]
    }
   ],
   "source": [
    "from math import cos, asin, sqrt\n",
    "\n",
    "# train \n",
    "detail_train = pd.read_csv('../coupon_data_project2/coupon_detail_train_translated_en.csv', parse_dates=['I_DATE'])\n",
    "visit_train = pd.read_csv('../coupon_data_project2/coupon_visit_train.csv', parse_dates=['I_DATE'])\n",
    "\n",
    "area_train = pd.read_csv('../coupon_data_project2/coupon_area_train_translated_en.csv')\n",
    "coupon_list_train = pd.read_csv('../coupon_data_project2/coupon_list_train_translated_en.csv', parse_dates=['DISPFROM', 'DISPEND', 'VALIDFROM', 'VALIDEND'])\n",
    "\n",
    "# base data\n",
    "prefecture_location = pd.read_csv('../coupon_data_project2/prefecture_locations_translated_en.csv')\n",
    "user_list = pd.read_csv('../coupon_data_project2/user_list_translated_en.csv', parse_dates=['WITHDRAW_DATE', 'REG_DATE'])\n",
    "\n",
    "# test data\n",
    "area_test = pd.read_csv('../coupon_data_project2/coupon_area_test_translated_en.csv')\n",
    "coupon_list_test = pd.read_csv('../coupon_data_project2/coupon_list_test_translated_en.csv', parse_dates=['DISPFROM', 'DISPEND', 'VALIDFROM', 'VALIDEND'])\n",
    "\n",
    "# submisiion\n",
    "submission = pd.read_csv('../coupon_data_project2/sample_submission.csv')\n",
    "\n",
    "detail_train['PURCHASE_FLG'] = 1\n",
    "detail_train.rename(columns = {'I_DATE': 'purchase_date', 'SMALL_AREA_NAME': 'resid_small' }, inplace=True) # 거주지 구분을 위해 컬럼명 변경\n",
    "visit_train.rename(columns = {'I_DATE': 'view_date', 'VIEW_COUPON_ID_hash':'COUPON_ID_hash'}, inplace=True)\n",
    "\n",
    "# date의 시간을 제거\n",
    "detail_train['purchase_date'] = pd.to_datetime(detail_train['purchase_date'].dt.date)\n",
    "visit_train['view_date'] = pd.to_datetime(visit_train['view_date'].dt.date)\n",
    "\n",
    "visit_train.drop(labels=['REFERRER_hash', 'SESSION_ID_hash', 'PURCHASEID_hash'], axis=1, inplace=True)\n",
    "detail_train.drop(labels=['PURCHASEID_hash'], axis=1, inplace=True)\n",
    "\n",
    "\n",
    "train = pd.merge(detail_train, visit_train, how='outer')\n",
    "\n",
    "print(detail_train.shape)\n",
    "print(visit_train.shape)\n",
    "print(train.shape)"
   ]
  },
  {
   "cell_type": "code",
   "execution_count": 2,
   "metadata": {},
   "outputs": [
    {
     "data": {
      "text/plain": [
       "Index(['SMALL_AREA_NAME', 'PREF_NAME', 'COUPON_ID_hash'], dtype='object')"
      ]
     },
     "execution_count": 2,
     "metadata": {},
     "output_type": "execute_result"
    }
   ],
   "source": [
    "area_train.columns"
   ]
  },
  {
   "cell_type": "code",
   "execution_count": 3,
   "metadata": {},
   "outputs": [],
   "source": [
    "train2 = pd.merge(train, user_list, how='left', on='USER_ID_hash')"
   ]
  },
  {
   "cell_type": "code",
   "execution_count": 4,
   "metadata": {},
   "outputs": [],
   "source": [
    "train2 = pd.merge(train2, coupon_list_train, how='left', on='COUPON_ID_hash')"
   ]
  },
  {
   "cell_type": "code",
   "execution_count": 6,
   "metadata": {},
   "outputs": [],
   "source": [
    "train2.rename(columns={'PREF_NAME':'user_pref', 'ken_name':'spot_pref'},inplace=True)"
   ]
  },
  {
   "cell_type": "code",
   "execution_count": 8,
   "metadata": {},
   "outputs": [],
   "source": [
    "df = train2[['COUPON_ID_hash','USER_ID_hash','user_pref','spot_pref']]"
   ]
  },
  {
   "cell_type": "code",
   "execution_count": 9,
   "metadata": {},
   "outputs": [
    {
     "data": {
      "text/plain": [
       "Index(['SMALL_AREA_NAME', 'PREF_NAME', 'COUPON_ID_hash'], dtype='object')"
      ]
     },
     "execution_count": 9,
     "metadata": {},
     "output_type": "execute_result"
    }
   ],
   "source": [
    "area_train.columns"
   ]
  },
  {
   "cell_type": "code",
   "execution_count": 10,
   "metadata": {},
   "outputs": [],
   "source": [
    "lookup_table = area_train.groupby('COUPON_ID_hash').apply(lambda x: list(x.PREF_NAME))\n",
    "lookup_table = pd.DataFrame(lookup_table, columns = ['coupon_pref']).reset_index()"
   ]
  },
  {
   "cell_type": "code",
   "execution_count": 40,
   "metadata": {},
   "outputs": [],
   "source": [
    "df_loc = pd.merge(df, lookup_table, how='left', on='COUPON_ID_hash')"
   ]
  },
  {
   "cell_type": "code",
   "execution_count": 41,
   "metadata": {},
   "outputs": [],
   "source": [
    "df_loc['user_pref'] = df_loc['user_pref'].fillna(\"NA\")"
   ]
  },
  {
   "cell_type": "code",
   "execution_count": 42,
   "metadata": {
    "scrolled": true
   },
   "outputs": [],
   "source": [
    "df_loc['coupon_pref'] = df_loc['coupon_pref'].fillna(\"NA_pref\")"
   ]
  },
  {
   "cell_type": "code",
   "execution_count": 43,
   "metadata": {},
   "outputs": [],
   "source": [
    "# user_pref가 coupon_pref에 포함하는지 알아보기\n",
    "def aa(x, y):\n",
    "    if x in y:\n",
    "        return 1\n",
    "    else:\n",
    "        return 0"
   ]
  },
  {
   "cell_type": "code",
   "execution_count": 44,
   "metadata": {},
   "outputs": [],
   "source": [
    "df_loc['PREF_in'] = df_loc.apply(lambda df2: aa(df2['user_pref'], df2['coupon_pref']), axis=1)"
   ]
  },
  {
   "cell_type": "code",
   "execution_count": 49,
   "metadata": {},
   "outputs": [],
   "source": [
    "prefecture_location = pd.read_csv('../coupon_data_project2/prefecture_locations_translated_en.csv')"
   ]
  },
  {
   "cell_type": "code",
   "execution_count": 50,
   "metadata": {},
   "outputs": [],
   "source": [
    "prefecture_location.drop('PREFECTUAL_OFFICE', axis=1, inplace=True)"
   ]
  },
  {
   "cell_type": "code",
   "execution_count": 51,
   "metadata": {},
   "outputs": [],
   "source": [
    "# user_pref의 위도 경도 가져오기\n",
    "prefecture_location.rename(columns={'PREF_NAME':'user_pref'},inplace=True)\n",
    "df_loc = pd.merge(df_loc, prefecture_location, how='left', on='user_pref')\n",
    "\n",
    "# spot_pref의 위도 경도 가져오기\n",
    "prefecture_location.rename(columns={'user_pref':'spot_pref'},inplace=True)\n",
    "df_loc = pd.merge(df_loc, prefecture_location, how='left', on='spot_pref')"
   ]
  },
  {
   "cell_type": "code",
   "execution_count": 52,
   "metadata": {},
   "outputs": [],
   "source": [
    "def distance(lat1, lon1, lat2, lon2):\n",
    "    p = 0.017453292519943295     #Pi/180\n",
    "    a = 0.5 - cos((lat2 - lat1) * p)/2 + cos(lat1 * p) * cos(lat2 * p) * (1 - cos((lon2 - lon1) * p)) / 2\n",
    "    return 12742 * asin(sqrt(a))"
   ]
  },
  {
   "cell_type": "code",
   "execution_count": 53,
   "metadata": {},
   "outputs": [],
   "source": [
    "df_loc['distance'] = df_loc.apply(lambda df_loc : distance(df_loc['LATITUDE_x'] , df_loc['LONGITUDE_x'] ,df_loc['LATITUDE_y'], df_loc['LONGITUDE_y']), axis=1)"
   ]
  },
  {
   "cell_type": "code",
   "execution_count": 54,
   "metadata": {},
   "outputs": [],
   "source": [
    "df_csv = df_loc[['COUPON_ID_hash', 'USER_ID_hash', 'distance', 'PREF_in']]\n",
    "df_csv.to_csv('train_location.csv', encoding='utf-8')"
   ]
  },
  {
   "cell_type": "markdown",
   "metadata": {},
   "source": [
    "# 테스트 데이터"
   ]
  },
  {
   "cell_type": "code",
   "execution_count": 64,
   "metadata": {},
   "outputs": [],
   "source": [
    "name_df_coupon_list_test = pd.DataFrame(coupon_list_test['COUPON_ID_hash'])\n",
    "name_df_user_list = pd.DataFrame(user_list['USER_ID_hash'])\n",
    "\n",
    "name_df_coupon_list_test['key'] = 0\n",
    "name_df_user_list['key'] = 0\n",
    "\n",
    "name_df_test = pd.merge(name_df_coupon_list_test, name_df_user_list, how='outer', on='key')\n",
    "\n",
    "name_df_test.drop('key', 1, inplace=True)"
   ]
  },
  {
   "cell_type": "code",
   "execution_count": 84,
   "metadata": {},
   "outputs": [],
   "source": [
    "loc_test = pd.merge(name_df_test, user_list, how='left', on='USER_ID_hash')\n",
    "\n",
    "loc_test = pd.merge(loc_test, coupon_list_test, how='left', on='COUPON_ID_hash')"
   ]
  },
  {
   "cell_type": "code",
   "execution_count": 85,
   "metadata": {},
   "outputs": [
    {
     "data": {
      "text/plain": [
       "Index(['COUPON_ID_hash', 'USER_ID_hash', 'REG_DATE', 'SEX_ID', 'AGE',\n",
       "       'WITHDRAW_DATE', 'PREF_NAME', 'CAPSULE_TEXT', 'GENRE_NAME',\n",
       "       'PRICE_RATE', 'CATALOG_PRICE', 'DISCOUNT_PRICE', 'DISPFROM', 'DISPEND',\n",
       "       'DISPPERIOD', 'VALIDFROM', 'VALIDEND', 'VALIDPERIOD', 'USABLE_DATE_MON',\n",
       "       'USABLE_DATE_TUE', 'USABLE_DATE_WED', 'USABLE_DATE_THU',\n",
       "       'USABLE_DATE_FRI', 'USABLE_DATE_SAT', 'USABLE_DATE_SUN',\n",
       "       'USABLE_DATE_HOLIDAY', 'USABLE_DATE_BEFORE_HOLIDAY', 'LARGE_AREA_NAME',\n",
       "       'ken_name', 'SMALL_AREA_NAME'],\n",
       "      dtype='object')"
      ]
     },
     "execution_count": 85,
     "metadata": {},
     "output_type": "execute_result"
    }
   ],
   "source": [
    "loc_test.columns"
   ]
  },
  {
   "cell_type": "code",
   "execution_count": 87,
   "metadata": {},
   "outputs": [],
   "source": [
    "loc_test.rename(columns={'PREF_NAME':'user_pref', 'ken_name':'spot_pref'},inplace=True)\n",
    "\n",
    "df_test = loc_test[['COUPON_ID_hash','USER_ID_hash','user_pref','spot_pref']]"
   ]
  },
  {
   "cell_type": "code",
   "execution_count": 88,
   "metadata": {
    "collapsed": true
   },
   "outputs": [
    {
     "name": "stderr",
     "output_type": "stream",
     "text": [
      "/Library/Frameworks/Python.framework/Versions/3.5/lib/python3.5/site-packages/ipykernel_launcher.py:2: SettingWithCopyWarning: \n",
      "A value is trying to be set on a copy of a slice from a DataFrame.\n",
      "Try using .loc[row_indexer,col_indexer] = value instead\n",
      "\n",
      "See the caveats in the documentation: http://pandas.pydata.org/pandas-docs/stable/indexing.html#indexing-view-versus-copy\n",
      "  \n"
     ]
    }
   ],
   "source": [
    "# submission[‘PURCHASED_COUPONS’] = submission[‘PURCHASED_COUPONS’].astype('str')\n",
    "df_test['spot_pref'] = df_test['spot_pref'].apply(lambda x: x.replace(' prefecture',''))"
   ]
  },
  {
   "cell_type": "code",
   "execution_count": 89,
   "metadata": {},
   "outputs": [],
   "source": [
    "lookup_table = area_test.groupby('COUPON_ID_hash').apply(lambda x: list(x.PREF_NAME))\n",
    "lookup_table = pd.DataFrame(lookup_table, columns = ['coupon_pref']).reset_index()\n",
    "\n",
    "df_test = pd.merge(df_test, lookup_table, how='left', on='COUPON_ID_hash')\n",
    "\n",
    "df_test['user_pref'] = df_test['user_pref'].fillna(\"NA\")\n",
    "df_test['coupon_pref'] = df_test['coupon_pref'].fillna(\"NA_pref\")\n",
    "\n",
    "# user_pref가 coupon_pref에 포함하는지 알아보기\n",
    "def aa(x, y):\n",
    "    if x in y:\n",
    "        return 1\n",
    "    else:\n",
    "        return 0\n",
    "\n",
    "df_test['PREF_in'] = df_test.apply(lambda df2: aa(df2['user_pref'], df2['coupon_pref']), axis=1)"
   ]
  },
  {
   "cell_type": "code",
   "execution_count": 91,
   "metadata": {},
   "outputs": [],
   "source": [
    "prefecture_location = pd.read_csv('../coupon_data_project2/prefecture_locations_translated_en.csv')\n",
    "\n",
    "prefecture_location.drop('PREFECTUAL_OFFICE', axis=1, inplace=True)\n",
    "\n",
    "# user_pref의 위도 경도 가져오기\n",
    "prefecture_location.rename(columns={'PREF_NAME':'user_pref'},inplace=True)\n",
    "df_test = pd.merge(df_test, prefecture_location, how='left', on='user_pref')\n",
    "\n",
    "# spot_pref의 위도 경도 가져오기\n",
    "prefecture_location.rename(columns={'user_pref':'spot_pref'},inplace=True)\n",
    "df_test = pd.merge(df_test, prefecture_location, how='left', on='spot_pref')\n",
    "\n",
    "def distance(lat1, lon1, lat2, lon2):\n",
    "    p = 0.017453292519943295     #Pi/180\n",
    "    a = 0.5 - cos((lat2 - lat1) * p)/2 + cos(lat1 * p) * cos(lat2 * p) * (1 - cos((lon2 - lon1) * p)) / 2\n",
    "    return 12742 * asin(sqrt(a))"
   ]
  },
  {
   "cell_type": "code",
   "execution_count": 76,
   "metadata": {
    "scrolled": false
   },
   "outputs": [],
   "source": [
    "df_test = df_test.drop_duplicates(['COUPON_ID_hash','USER_ID_hash'], keep='last')"
   ]
  },
  {
   "cell_type": "code",
   "execution_count": 92,
   "metadata": {
    "scrolled": true
   },
   "outputs": [],
   "source": [
    "df_test['distance'] = df_test.apply(lambda df_loc : distance(df_loc['LATITUDE_x'] , df_loc['LONGITUDE_x'] ,df_loc['LATITUDE_y'], df_loc['LONGITUDE_y']), axis=1)"
   ]
  },
  {
   "cell_type": "code",
   "execution_count": 99,
   "metadata": {},
   "outputs": [],
   "source": [
    "test_csv = df_test[['COUPON_ID_hash', 'USER_ID_hash','PREF_in','distance']]"
   ]
  },
  {
   "cell_type": "code",
   "execution_count": 100,
   "metadata": {},
   "outputs": [],
   "source": [
    "test_csv.to_csv('test_location.csv', encoding='utf-8')"
   ]
  }
 ],
 "metadata": {
  "kernelspec": {
   "display_name": "Python 3",
   "language": "python",
   "name": "python3"
  },
  "language_info": {
   "codemirror_mode": {
    "name": "ipython",
    "version": 3
   },
   "file_extension": ".py",
   "mimetype": "text/x-python",
   "name": "python",
   "nbconvert_exporter": "python",
   "pygments_lexer": "ipython3",
   "version": "3.5.2"
  }
 },
 "nbformat": 4,
 "nbformat_minor": 2
}
