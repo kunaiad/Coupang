{
 "cells": [
  {
   "cell_type": "code",
   "execution_count": 2,
   "metadata": {},
   "outputs": [],
   "source": [
    "\n",
    "import numpy as np\n",
    "import scipy as sp\n",
    "import pandas as pd\n",
    "import statsmodels.api as sm\n",
    "import statsmodels.formula.api as smf\n",
    "import statsmodels.stats.api as sms\n",
    "import sklearn as sk\n",
    "\n",
    "import matplotlib as mpl\n",
    "mpl.use('Agg')\n",
    "import matplotlib.pylab as plt\n",
    "from mpl_toolkits.mplot3d import Axes3D\n",
    "%matplotlib inline\n",
    "\n",
    "import seaborn as sns\n",
    "sns.set()\n",
    "sns.set_style(\"whitegrid\")\n",
    "sns.set_color_codes()\n",
    "\n",
    "import warnings\n",
    "\n",
    "warnings.filterwarnings('ignore')"
   ]
  },
  {
   "cell_type": "markdown",
   "metadata": {},
   "source": [
    "### 데이터 불러오기"
   ]
  },
  {
   "cell_type": "code",
   "execution_count": 5,
   "metadata": {},
   "outputs": [],
   "source": [
    "# train \n",
    "area_train = pd.read_csv('coupon_data_project2/coupon_area_train.csv_translated_en.csv')\n",
    "detail_train = pd.read_csv('coupon_data_project2/coupon_detail_train.csv_translated_en.csv', parse_dates=['I_DATE'])\n",
    "visit_train = pd.read_csv('coupon_data_project2/coupon_visit_train.csv', parse_dates=['I_DATE'])\n",
    "\n",
    "coupon_list_train = pd.read_csv('coupon_data_project2/coupon_list_train.csv_translated_en.csv')\n",
    "\n",
    "# base data\n",
    "prefecture_location = pd.read_csv('coupon_data_project2/prefecture_locations.csv_translated_en.csv')\n",
    "user_list = pd.read_csv('coupon_data_project2/user_list.csv_translated_en.csv')\n",
    "\n",
    "# test data\n",
    "area_test = pd.read_csv('coupon_data_project2/coupon_area_test.csv_translated_en.csv')\n",
    "coupon_list_test = pd.read_csv('coupon_data_project2/coupon_list_test.csv_translated_en.csv')\n",
    "\n",
    "# submisiion\n",
    "submission = pd.read_csv('coupon_data_project2/sample_submission.csv')"
   ]
  }
 ],
 "metadata": {
  "kernelspec": {
   "display_name": "Python 3",
   "language": "python",
   "name": "python3"
  },
  "language_info": {
   "codemirror_mode": {
    "name": "ipython",
    "version": 3
   },
   "file_extension": ".py",
   "mimetype": "text/x-python",
   "name": "python",
   "nbconvert_exporter": "python",
   "pygments_lexer": "ipython3",
   "version": "3.6.4"
  }
 },
 "nbformat": 4,
 "nbformat_minor": 2
}
