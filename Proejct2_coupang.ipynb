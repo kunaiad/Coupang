{
 "cells": [
  {
   "cell_type": "code",
   "execution_count": 2,
   "metadata": {},
   "outputs": [],
   "source": [
    "\n",
    "import numpy as np\n",
    "import scipy as sp\n",
    "import pandas as pd\n",
    "import statsmodels.api as sm\n",
    "import statsmodels.formula.api as smf\n",
    "import statsmodels.stats.api as sms\n",
    "import sklearn as sk\n",
    "\n",
    "import matplotlib as mpl\n",
    "mpl.use('Agg')\n",
    "import matplotlib.pylab as plt\n",
    "from mpl_toolkits.mplot3d import Axes3D\n",
    "%matplotlib inline\n",
    "\n",
    "import seaborn as sns\n",
    "sns.set()\n",
    "sns.set_style(\"whitegrid\")\n",
    "sns.set_color_codes()\n",
    "\n",
    "import warnings\n",
    "\n",
    "warnings.filterwarnings('ignore')"
   ]
  },
  {
   "cell_type": "markdown",
   "metadata": {},
   "source": [
    "### 데이터 불러오기"
   ]
  },
  {
   "cell_type": "code",
   "execution_count": 3,
   "metadata": {},
   "outputs": [],
   "source": [
    "# train \n",
    "area_train = pd.read_csv('../tae/Dropbox/coupon_data_project2/coupon_area_train.csv')\n",
    "detail_train = pd.read_csv('../tae/Dropbox/coupon_data_project2/coupon_detail_train.csv')\n",
    "visit_train = pd.read_csv('../tae/Dropbox/coupon_data_project2/coupon_visit_train.csv')\n",
    "\n",
    "list_train = pd.read_csv('../tae/Dropbox/coupon_data_project2/coupon_list_test_translated.csv')\n",
    "\n",
    "# base data\n",
    "location = pd.read_csv('../tae/Dropbox/coupon_data_project2/prefecture_locations.csv')\n",
    "user_list = pd.read_csv('../tae/Dropbox/coupon_data_project2/user_list.csv')\n",
    "\n",
    "# test data\n",
    "area_test = pd.read_csv('../tae/Dropbox/coupon_data_project2/coupon_area_test.csv')\n",
    "list_test = pd.read_csv('../tae/Dropbox/coupon_data_project2/coupon_list_test.csv')\n",
    "\n",
    "# submisiion\n",
    "submission = pd.read_csv('../tae/Dropbox/coupon_data_project2/sample_submission.csv')"
   ]
  },
  {
   "cell_type": "markdown",
   "metadata": {},
   "source": [
    "## 1) 통합 테이블 형성"
   ]
  },
  {
   "cell_type": "markdown",
   "metadata": {},
   "source": [
    "### 1-1) VIEW_COUPON_ID_hash -> COUPON_ID_hash 로 변경"
   ]
  },
  {
   "cell_type": "code",
   "execution_count": 4,
   "metadata": {},
   "outputs": [],
   "source": [
    "# VIEW_COUPON_ID_hash -> COUPON_ID_hash 로 변경\n",
    "visit_train.rename(columns={'VIEW_COUPON_ID_hash': 'COUPON_ID_hash'}, inplace=True)"
   ]
  },
  {
   "cell_type": "markdown",
   "metadata": {},
   "source": [
    "### 1-2) detail & vist merge(A column 추가)\n",
    "- 방문(visit) 과 실제 구매(detail)의 상관관계 분석을 위한 사전 구분자 추가"
   ]
  },
  {
   "cell_type": "code",
   "execution_count": 5,
   "metadata": {},
   "outputs": [],
   "source": [
    "detail_train['A'] = 'detail'\n",
    "visit_train['A'] = 'visit'"
   ]
  },
  {
   "cell_type": "code",
   "execution_count": 6,
   "metadata": {},
   "outputs": [],
   "source": [
    "train = pd.merge(detail_train, visit_train, how='outer')"
   ]
  },
  {
   "cell_type": "code",
   "execution_count": 7,
   "metadata": {},
   "outputs": [
    {
     "data": {
      "text/plain": [
       "(3002176, 11)"
      ]
     },
     "execution_count": 7,
     "metadata": {},
     "output_type": "execute_result"
    }
   ],
   "source": [
    "train.shape"
   ]
  },
  {
   "cell_type": "markdown",
   "metadata": {},
   "source": [
    "### 1-3) location & area_train Merge, 기준: PREF_NAME"
   ]
  },
  {
   "cell_type": "code",
   "execution_count": 8,
   "metadata": {},
   "outputs": [],
   "source": [
    "area_base = pd.merge(area_train, location, on='PREF_NAME')"
   ]
  },
  {
   "cell_type": "code",
   "execution_count": 9,
   "metadata": {},
   "outputs": [
    {
     "name": "stdout",
     "output_type": "stream",
     "text": [
      "(138185, 3)(area_train) + (47, 4)(location) = (138185, 6)(area_base)\n"
     ]
    }
   ],
   "source": [
    "print('{}(area_train) + {}(location) = {}(area_base)'.format(area_train.shape, location.shape, area_base.shape))"
   ]
  },
  {
   "cell_type": "markdown",
   "metadata": {},
   "source": [
    "### 1-4) train & area_base Merge, 기준: COUPON_ID_hash"
   ]
  },
  {
   "cell_type": "code",
   "execution_count": 10,
   "metadata": {},
   "outputs": [],
   "source": [
    "train2 = pd.merge(train, area_base, on='COUPON_ID_hash')"
   ]
  },
  {
   "cell_type": "code",
   "execution_count": 11,
   "metadata": {},
   "outputs": [
    {
     "data": {
      "text/plain": [
       "(21760144, 16)"
      ]
     },
     "execution_count": 11,
     "metadata": {},
     "output_type": "execute_result"
    }
   ],
   "source": [
    "train2.shape"
   ]
  },
  {
   "cell_type": "markdown",
   "metadata": {},
   "source": [
    "### 1-5) train2 & user_list Merge, 기준: USER_ID_hash"
   ]
  },
  {
   "cell_type": "code",
   "execution_count": 12,
   "metadata": {},
   "outputs": [],
   "source": [
    "train3 = pd.merge(train2, user_list, on='USER_ID_hash')"
   ]
  },
  {
   "cell_type": "code",
   "execution_count": 16,
   "metadata": {},
   "outputs": [
    {
     "data": {
      "text/plain": [
       "(21760144, 21)"
      ]
     },
     "execution_count": 16,
     "metadata": {},
     "output_type": "execute_result"
    }
   ],
   "source": [
    "train3.shape"
   ]
  },
  {
   "cell_type": "code",
   "execution_count": null,
   "metadata": {},
   "outputs": [],
   "source": []
  }
 ],
 "metadata": {
  "kernelspec": {
   "display_name": "Python 3",
   "language": "python",
   "name": "python3"
  },
  "language_info": {
   "codemirror_mode": {
    "name": "ipython",
    "version": 3
   },
   "file_extension": ".py",
   "mimetype": "text/x-python",
   "name": "python",
   "nbconvert_exporter": "python",
   "pygments_lexer": "ipython3",
   "version": "3.6.4"
  }
 },
 "nbformat": 4,
 "nbformat_minor": 2
}
