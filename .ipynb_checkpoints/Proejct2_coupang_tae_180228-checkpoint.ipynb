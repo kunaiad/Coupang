{
 "cells": [
  {
   "cell_type": "code",
   "execution_count": 4,
   "metadata": {},
   "outputs": [],
   "source": [
    "\n",
    "import numpy as np\n",
    "import scipy as sp\n",
    "import pandas as pd\n",
    "import statsmodels.api as sm\n",
    "import statsmodels.formula.api as smf\n",
    "import statsmodels.stats.api as sms\n",
    "import sklearn as sk\n",
    "\n",
    "import matplotlib as mpl\n",
    "mpl.use('Agg')\n",
    "import matplotlib.pylab as plt\n",
    "from mpl_toolkits.mplot3d import Axes3D\n",
    "%matplotlib inline\n",
    "\n",
    "import seaborn as sns\n",
    "sns.set()\n",
    "sns.set_style(\"whitegrid\")\n",
    "sns.set_color_codes()\n",
    "''\n",
    "import warnings\n",
    "\n",
    "warnings.filterwarnings('ignore')"
   ]
  },
  {
   "cell_type": "code",
   "execution_count": 2,
   "metadata": {},
   "outputs": [],
   "source": [
    "# 테이블 현황 파악을 위한 함수 \n",
    "def summary_table(table):\n",
    "    df = pd.DataFrame()\n",
    "    for i in table.columns:\n",
    "        name = i\n",
    "        dtype = table[i].dtype.name\n",
    "        null = table[i].isnull().sum()\n",
    "        act = table.shape[0] - null\n",
    "        unique = len(table[i].unique())\n",
    "        data = {'name': name, 'dtype': dtype, 'null': null, 'act': act, 'unique': unique}\n",
    "        df = df.append(data, ignore_index=True)\n",
    "    return df"
   ]
  },
  {
   "cell_type": "markdown",
   "metadata": {},
   "source": [
    "### 데이터 불러오기"
   ]
  },
  {
   "cell_type": "code",
   "execution_count": 3,
   "metadata": {},
   "outputs": [
    {
     "ename": "FileNotFoundError",
     "evalue": "File b'coupon_data_project2/coupon_detail_train.csv_translated_en.csv' does not exist",
     "output_type": "error",
     "traceback": [
      "\u001b[0;31m---------------------------------------------------------------------------\u001b[0m",
      "\u001b[0;31mFileNotFoundError\u001b[0m                         Traceback (most recent call last)",
      "\u001b[0;32m<ipython-input-3-08b1341fa1cf>\u001b[0m in \u001b[0;36m<module>\u001b[0;34m()\u001b[0m\n\u001b[1;32m      1\u001b[0m \u001b[0;31m# train\u001b[0m\u001b[0;34m\u001b[0m\u001b[0;34m\u001b[0m\u001b[0m\n\u001b[0;32m----> 2\u001b[0;31m \u001b[0mdetail_train\u001b[0m \u001b[0;34m=\u001b[0m \u001b[0mpd\u001b[0m\u001b[0;34m.\u001b[0m\u001b[0mread_csv\u001b[0m\u001b[0;34m(\u001b[0m\u001b[0;34m'coupon_data_project2/coupon_detail_train.csv_translated_en.csv'\u001b[0m\u001b[0;34m,\u001b[0m \u001b[0mparse_dates\u001b[0m\u001b[0;34m=\u001b[0m\u001b[0;34m[\u001b[0m\u001b[0;34m'I_DATE'\u001b[0m\u001b[0;34m]\u001b[0m\u001b[0;34m)\u001b[0m\u001b[0;34m\u001b[0m\u001b[0m\n\u001b[0m\u001b[1;32m      3\u001b[0m \u001b[0mvisit_train\u001b[0m \u001b[0;34m=\u001b[0m \u001b[0mpd\u001b[0m\u001b[0;34m.\u001b[0m\u001b[0mread_csv\u001b[0m\u001b[0;34m(\u001b[0m\u001b[0;34m'coupon_data_project2/coupon_visit_train.csv'\u001b[0m\u001b[0;34m,\u001b[0m \u001b[0mparse_dates\u001b[0m\u001b[0;34m=\u001b[0m\u001b[0;34m[\u001b[0m\u001b[0;34m'I_DATE'\u001b[0m\u001b[0;34m]\u001b[0m\u001b[0;34m)\u001b[0m\u001b[0;34m\u001b[0m\u001b[0m\n\u001b[1;32m      4\u001b[0m \u001b[0;34m\u001b[0m\u001b[0m\n\u001b[1;32m      5\u001b[0m \u001b[0marea_train\u001b[0m \u001b[0;34m=\u001b[0m \u001b[0mpd\u001b[0m\u001b[0;34m.\u001b[0m\u001b[0mread_csv\u001b[0m\u001b[0;34m(\u001b[0m\u001b[0;34m'coupon_data_project2/coupon_area_train.csv_translated_en.csv'\u001b[0m\u001b[0;34m)\u001b[0m\u001b[0;34m\u001b[0m\u001b[0m\n",
      "\u001b[0;32m/usr/local/Cellar/python3/3.6.4_2/Frameworks/Python.framework/Versions/3.6/lib/python3.6/site-packages/pandas/io/parsers.py\u001b[0m in \u001b[0;36mparser_f\u001b[0;34m(filepath_or_buffer, sep, delimiter, header, names, index_col, usecols, squeeze, prefix, mangle_dupe_cols, dtype, engine, converters, true_values, false_values, skipinitialspace, skiprows, nrows, na_values, keep_default_na, na_filter, verbose, skip_blank_lines, parse_dates, infer_datetime_format, keep_date_col, date_parser, dayfirst, iterator, chunksize, compression, thousands, decimal, lineterminator, quotechar, quoting, escapechar, comment, encoding, dialect, tupleize_cols, error_bad_lines, warn_bad_lines, skipfooter, skip_footer, doublequote, delim_whitespace, as_recarray, compact_ints, use_unsigned, low_memory, buffer_lines, memory_map, float_precision)\u001b[0m\n\u001b[1;32m    707\u001b[0m                     skip_blank_lines=skip_blank_lines)\n\u001b[1;32m    708\u001b[0m \u001b[0;34m\u001b[0m\u001b[0m\n\u001b[0;32m--> 709\u001b[0;31m         \u001b[0;32mreturn\u001b[0m \u001b[0m_read\u001b[0m\u001b[0;34m(\u001b[0m\u001b[0mfilepath_or_buffer\u001b[0m\u001b[0;34m,\u001b[0m \u001b[0mkwds\u001b[0m\u001b[0;34m)\u001b[0m\u001b[0;34m\u001b[0m\u001b[0m\n\u001b[0m\u001b[1;32m    710\u001b[0m \u001b[0;34m\u001b[0m\u001b[0m\n\u001b[1;32m    711\u001b[0m     \u001b[0mparser_f\u001b[0m\u001b[0;34m.\u001b[0m\u001b[0m__name__\u001b[0m \u001b[0;34m=\u001b[0m \u001b[0mname\u001b[0m\u001b[0;34m\u001b[0m\u001b[0m\n",
      "\u001b[0;32m/usr/local/Cellar/python3/3.6.4_2/Frameworks/Python.framework/Versions/3.6/lib/python3.6/site-packages/pandas/io/parsers.py\u001b[0m in \u001b[0;36m_read\u001b[0;34m(filepath_or_buffer, kwds)\u001b[0m\n\u001b[1;32m    447\u001b[0m \u001b[0;34m\u001b[0m\u001b[0m\n\u001b[1;32m    448\u001b[0m     \u001b[0;31m# Create the parser.\u001b[0m\u001b[0;34m\u001b[0m\u001b[0;34m\u001b[0m\u001b[0m\n\u001b[0;32m--> 449\u001b[0;31m     \u001b[0mparser\u001b[0m \u001b[0;34m=\u001b[0m \u001b[0mTextFileReader\u001b[0m\u001b[0;34m(\u001b[0m\u001b[0mfilepath_or_buffer\u001b[0m\u001b[0;34m,\u001b[0m \u001b[0;34m**\u001b[0m\u001b[0mkwds\u001b[0m\u001b[0;34m)\u001b[0m\u001b[0;34m\u001b[0m\u001b[0m\n\u001b[0m\u001b[1;32m    450\u001b[0m \u001b[0;34m\u001b[0m\u001b[0m\n\u001b[1;32m    451\u001b[0m     \u001b[0;32mif\u001b[0m \u001b[0mchunksize\u001b[0m \u001b[0;32mor\u001b[0m \u001b[0miterator\u001b[0m\u001b[0;34m:\u001b[0m\u001b[0;34m\u001b[0m\u001b[0m\n",
      "\u001b[0;32m/usr/local/Cellar/python3/3.6.4_2/Frameworks/Python.framework/Versions/3.6/lib/python3.6/site-packages/pandas/io/parsers.py\u001b[0m in \u001b[0;36m__init__\u001b[0;34m(self, f, engine, **kwds)\u001b[0m\n\u001b[1;32m    816\u001b[0m             \u001b[0mself\u001b[0m\u001b[0;34m.\u001b[0m\u001b[0moptions\u001b[0m\u001b[0;34m[\u001b[0m\u001b[0;34m'has_index_names'\u001b[0m\u001b[0;34m]\u001b[0m \u001b[0;34m=\u001b[0m \u001b[0mkwds\u001b[0m\u001b[0;34m[\u001b[0m\u001b[0;34m'has_index_names'\u001b[0m\u001b[0;34m]\u001b[0m\u001b[0;34m\u001b[0m\u001b[0m\n\u001b[1;32m    817\u001b[0m \u001b[0;34m\u001b[0m\u001b[0m\n\u001b[0;32m--> 818\u001b[0;31m         \u001b[0mself\u001b[0m\u001b[0;34m.\u001b[0m\u001b[0m_make_engine\u001b[0m\u001b[0;34m(\u001b[0m\u001b[0mself\u001b[0m\u001b[0;34m.\u001b[0m\u001b[0mengine\u001b[0m\u001b[0;34m)\u001b[0m\u001b[0;34m\u001b[0m\u001b[0m\n\u001b[0m\u001b[1;32m    819\u001b[0m \u001b[0;34m\u001b[0m\u001b[0m\n\u001b[1;32m    820\u001b[0m     \u001b[0;32mdef\u001b[0m \u001b[0mclose\u001b[0m\u001b[0;34m(\u001b[0m\u001b[0mself\u001b[0m\u001b[0;34m)\u001b[0m\u001b[0;34m:\u001b[0m\u001b[0;34m\u001b[0m\u001b[0m\n",
      "\u001b[0;32m/usr/local/Cellar/python3/3.6.4_2/Frameworks/Python.framework/Versions/3.6/lib/python3.6/site-packages/pandas/io/parsers.py\u001b[0m in \u001b[0;36m_make_engine\u001b[0;34m(self, engine)\u001b[0m\n\u001b[1;32m   1047\u001b[0m     \u001b[0;32mdef\u001b[0m \u001b[0m_make_engine\u001b[0m\u001b[0;34m(\u001b[0m\u001b[0mself\u001b[0m\u001b[0;34m,\u001b[0m \u001b[0mengine\u001b[0m\u001b[0;34m=\u001b[0m\u001b[0;34m'c'\u001b[0m\u001b[0;34m)\u001b[0m\u001b[0;34m:\u001b[0m\u001b[0;34m\u001b[0m\u001b[0m\n\u001b[1;32m   1048\u001b[0m         \u001b[0;32mif\u001b[0m \u001b[0mengine\u001b[0m \u001b[0;34m==\u001b[0m \u001b[0;34m'c'\u001b[0m\u001b[0;34m:\u001b[0m\u001b[0;34m\u001b[0m\u001b[0m\n\u001b[0;32m-> 1049\u001b[0;31m             \u001b[0mself\u001b[0m\u001b[0;34m.\u001b[0m\u001b[0m_engine\u001b[0m \u001b[0;34m=\u001b[0m \u001b[0mCParserWrapper\u001b[0m\u001b[0;34m(\u001b[0m\u001b[0mself\u001b[0m\u001b[0;34m.\u001b[0m\u001b[0mf\u001b[0m\u001b[0;34m,\u001b[0m \u001b[0;34m**\u001b[0m\u001b[0mself\u001b[0m\u001b[0;34m.\u001b[0m\u001b[0moptions\u001b[0m\u001b[0;34m)\u001b[0m\u001b[0;34m\u001b[0m\u001b[0m\n\u001b[0m\u001b[1;32m   1050\u001b[0m         \u001b[0;32melse\u001b[0m\u001b[0;34m:\u001b[0m\u001b[0;34m\u001b[0m\u001b[0m\n\u001b[1;32m   1051\u001b[0m             \u001b[0;32mif\u001b[0m \u001b[0mengine\u001b[0m \u001b[0;34m==\u001b[0m \u001b[0;34m'python'\u001b[0m\u001b[0;34m:\u001b[0m\u001b[0;34m\u001b[0m\u001b[0m\n",
      "\u001b[0;32m/usr/local/Cellar/python3/3.6.4_2/Frameworks/Python.framework/Versions/3.6/lib/python3.6/site-packages/pandas/io/parsers.py\u001b[0m in \u001b[0;36m__init__\u001b[0;34m(self, src, **kwds)\u001b[0m\n\u001b[1;32m   1693\u001b[0m         \u001b[0mkwds\u001b[0m\u001b[0;34m[\u001b[0m\u001b[0;34m'allow_leading_cols'\u001b[0m\u001b[0;34m]\u001b[0m \u001b[0;34m=\u001b[0m \u001b[0mself\u001b[0m\u001b[0;34m.\u001b[0m\u001b[0mindex_col\u001b[0m \u001b[0;32mis\u001b[0m \u001b[0;32mnot\u001b[0m \u001b[0;32mFalse\u001b[0m\u001b[0;34m\u001b[0m\u001b[0m\n\u001b[1;32m   1694\u001b[0m \u001b[0;34m\u001b[0m\u001b[0m\n\u001b[0;32m-> 1695\u001b[0;31m         \u001b[0mself\u001b[0m\u001b[0;34m.\u001b[0m\u001b[0m_reader\u001b[0m \u001b[0;34m=\u001b[0m \u001b[0mparsers\u001b[0m\u001b[0;34m.\u001b[0m\u001b[0mTextReader\u001b[0m\u001b[0;34m(\u001b[0m\u001b[0msrc\u001b[0m\u001b[0;34m,\u001b[0m \u001b[0;34m**\u001b[0m\u001b[0mkwds\u001b[0m\u001b[0;34m)\u001b[0m\u001b[0;34m\u001b[0m\u001b[0m\n\u001b[0m\u001b[1;32m   1696\u001b[0m \u001b[0;34m\u001b[0m\u001b[0m\n\u001b[1;32m   1697\u001b[0m         \u001b[0;31m# XXX\u001b[0m\u001b[0;34m\u001b[0m\u001b[0;34m\u001b[0m\u001b[0m\n",
      "\u001b[0;32mpandas/_libs/parsers.pyx\u001b[0m in \u001b[0;36mpandas._libs.parsers.TextReader.__cinit__\u001b[0;34m()\u001b[0m\n",
      "\u001b[0;32mpandas/_libs/parsers.pyx\u001b[0m in \u001b[0;36mpandas._libs.parsers.TextReader._setup_parser_source\u001b[0;34m()\u001b[0m\n",
      "\u001b[0;31mFileNotFoundError\u001b[0m: File b'coupon_data_project2/coupon_detail_train.csv_translated_en.csv' does not exist"
     ]
    }
   ],
   "source": [
    "# train \n",
    "detail_train = pd.read_csv('coupon_data_project2/coupon_detail_train.csv_translated_en.csv', parse_dates=['I_DATE'])\n",
    "visit_train = pd.read_csv('coupon_data_project2/coupon_visit_train.csv', parse_dates=['I_DATE'])\n",
    "\n",
    "area_train = pd.read_csv('coupon_data_project2/coupon_area_train.csv_translated_en.csv')\n",
    "coupon_list_train = pd.read_csv('coupon_data_project2/coupon_list_train.csv_translated_en.csv', parse_dates=['DISPFROM', 'DISPEND', 'VALIDFROM', 'VALIDEND'])\n",
    "\n",
    "# base data\n",
    "prefecture_location = pd.read_csv('coupon_data_project2/prefecture_locations.csv_translated_en.csv')\n",
    "user_list = pd.read_csv('coupon_data_project2/user_list.csv_translated_en.csv', parse_dates=['WITHDRAW_DATE', 'REG_DATE'])\n",
    "\n",
    "# test data\n",
    "area_test = pd.read_csv('coupon_data_project2/coupon_area_test.csv_translated_en.csv')\n",
    "coupon_list_test = pd.read_csv('coupon_data_project2/coupon_list_test.csv_translated_en.csv')\n",
    "\n",
    "# submisiion\n",
    "submission = pd.read_csv('coupon_data_project2/sample_submission.csv')"
   ]
  },
  {
   "cell_type": "markdown",
   "metadata": {},
   "source": [
    "### area_train 분석"
   ]
  },
  {
   "cell_type": "code",
   "execution_count": null,
   "metadata": {},
   "outputs": [],
   "source": [
    "# PREF_NAME 에서 Prefecture 제외\n",
    "area_train.PREF_NAME = area_train.PREF_NAME.str.replace(' Prefecture', '').str.replace(' prefecture', '')"
   ]
  },
  {
   "cell_type": "code",
   "execution_count": null,
   "metadata": {},
   "outputs": [],
   "source": [
    "area_train[:1]"
   ]
  },
  {
   "cell_type": "markdown",
   "metadata": {},
   "source": [
    "- area / detail / coupon 에 분포되어 있는 SMALL_AREA가 동일한지 검증하였음"
   ]
  },
  {
   "cell_type": "code",
   "execution_count": null,
   "metadata": {},
   "outputs": [],
   "source": [
    "area = area_train.SMALL_AREA_NAME.unique()\n",
    "detail = detail_train.SMALL_AREA_NAME.unique()\n",
    "coupon = coupon_list_train.SMALL_AREA_NAME.unique()\n",
    "pd.DataFrame({\"area\":area, \"detail\":detail, \"coupon\":coupon})[:2]"
   ]
  },
  {
   "cell_type": "code",
   "execution_count": null,
   "metadata": {},
   "outputs": [],
   "source": [
    "area_train.pivot_table(index=['PREF_NAME','SMALL_AREA_NAME'], values='COUPON_ID_hash', aggfunc='count')"
   ]
  },
  {
   "cell_type": "markdown",
   "metadata": {},
   "source": [
    "- Tokyo, Osaka, Kanagawa 를 제외하고는 PREF_NAME과 SMALL_AREA_NAME이 같음"
   ]
  },
  {
   "cell_type": "code",
   "execution_count": null,
   "metadata": {},
   "outputs": [],
   "source": [
    "area_train['comparison'] = np.where(area_train.PREF_NAME == area_train.SMALL_AREA_NAME, 'same', 'diff')\n",
    "area_train.comparison.value_counts()"
   ]
  },
  {
   "cell_type": "code",
   "execution_count": null,
   "metadata": {},
   "outputs": [],
   "source": [
    "plt.figure(figsize = (30,5))\n",
    "sns.countplot(area_train.SMALL_AREA_NAME)\n",
    "sns.countplot(area_train.PREF_NAME)"
   ]
  },
  {
   "cell_type": "markdown",
   "metadata": {},
   "source": [
    "### coupon_list"
   ]
  },
  {
   "cell_type": "code",
   "execution_count": null,
   "metadata": {},
   "outputs": [],
   "source": [
    "summary_table(coupon_list_train).pivot_table(index=['dtype', 'name'])"
   ]
  },
  {
   "cell_type": "code",
   "execution_count": null,
   "metadata": {},
   "outputs": [],
   "source": [
    "coupon_numeric = [x for x in coupon_list_train.columns if coupon_list_train[x].dtype == 'float64' or coupon_list_train[x].dtype == 'int64']\n",
    "coupon_cat = [x for x in coupon_list_train.columns if coupon_list_train[x].dtype == 'object']\n",
    "coupon_cat.remove('COUPON_ID_hash')"
   ]
  },
  {
   "cell_type": "code",
   "execution_count": null,
   "metadata": {},
   "outputs": [],
   "source": [
    "# 유효기간이 있는 경우가 없는 경우로 나눠 보고자 함.\n",
    "coupon_list_train['VALID'] = np.where(coupon_list_train['USABLE_DATE_FRI'].isnull(), 'no', 'yes')"
   ]
  },
  {
   "cell_type": "code",
   "execution_count": null,
   "metadata": {},
   "outputs": [],
   "source": [
    "filtered = coupon_list_train[coupon_list_train['VALID'] == 'yes']"
   ]
  },
  {
   "cell_type": "code",
   "execution_count": null,
   "metadata": {},
   "outputs": [],
   "source": [
    "# 유효기간의 경우 100일 이상이 많았음\n",
    "# 세일한 기간은 대략 10일미만 , 3일이 제일 많았고 14이상은 거의 없다고 봐도 됨.\n",
    "# 그렇다고해서 함부로 아웃라이어로 취급할 수는 없음. 그 쿠폰의 구매량이 많았다면 기간이 의미가 있다고 봐야 함.\n",
    "# 기간이 긴 쿠폰만을 샘플링해서, 할인 기간 중 초반 몇 % 대에서 많이 구매를 했는지 파악해야 함\n",
    "filtered_validperiod = coupon_list_train.VALIDPERIOD[(coupon_list_train.VALIDPERIOD >= 1)]\n",
    "filtered_dispperiod = coupon_list_train.DISPPERIOD[(coupon_list_train.DISPPERIOD) <= 8]"
   ]
  },
  {
   "cell_type": "code",
   "execution_count": null,
   "metadata": {},
   "outputs": [],
   "source": [
    "plt.figure(figsize=(20, 15))\n",
    "for idx, col in enumerate(coupon_numeric):\n",
    "    if col == 'VALIDPERIOD': \n",
    "        plt.subplot(5, 4, idx + 1)\n",
    "        sns.distplot(filtered_validperiod)\n",
    "    elif col == 'DISPPERIOD':\n",
    "        plt.subplot(5, 4, idx + 1)\n",
    "        sns.distplot(filtered_dispperiod)\n",
    "    else:\n",
    "        plt.subplot(5, 4, idx + 1)\n",
    "        sns.distplot(filtered[col])\n",
    "plt.tight_layout(pad=2, h_pad=1)\n",
    "plt.show()"
   ]
  },
  {
   "cell_type": "code",
   "execution_count": null,
   "metadata": {},
   "outputs": [],
   "source": [
    "# 카탈로그 price 와 discount price와의 상관관계를 봐야함\n",
    "# 할인가격(DISCOUNT_PRICE)와 CATALOG_PRICE(정가) 상관관계 높음 -> 가격이 클 수록 할인 가격도 크다 \n",
    "# 할인율과 DISPPERIOD와의 상관관계도 어느정도 있는듯 0.16(경미하긴 함)\n",
    "# 유효기간(VALIDPERIOD)와 쿠폰판매기간(DISPPERIOD) 도 어느정도 상관관계가 있음 0.11\n",
    "# 요일이 인접할 수록 상관관계가 있음\n",
    "# HOLIDAY와 주말(SAT, SUN)는 상관관계가 매우 큼 -> 브랜드세일 처럼 주말에서부터 HOLIDAY(일명 황금연휴)로 세일했을 가능성이 크며 사용량이 많을 것으로 추저됨(경험상)\n",
    "corr = filtered.filter(coupon_numeric).corr()\n",
    "plt.figure(figsize = (10,5))\n",
    "mask = np.zeros_like(corr)\n",
    "mask[np.triu_indices_from(mask)] = True\n",
    "with sns.axes_style(\"white\"):\n",
    "    ax = sns.heatmap(corr, mask = mask, annot=True, fmt = \".2f\", cmap = \"YlGnBu\")"
   ]
  },
  {
   "cell_type": "code",
   "execution_count": null,
   "metadata": {},
   "outputs": [],
   "source": [
    "# 음식, 배달서비스, nail, 숙박이 꽤 많음\n",
    "# 유효기간이 있는 경우가 많긴 함.\n",
    "plt.figure(figsize = (15, 30))\n",
    "for idx, col in enumerate(coupon_cat):\n",
    "    plt.subplot(6, 1, idx + 1)\n",
    "    g = sns.countplot(coupon_list_train[col])\n",
    "    g = plt.setp(g.get_xticklabels(), rotation=20) \n",
    "plt.show()"
   ]
  },
  {
   "cell_type": "markdown",
   "metadata": {},
   "source": [
    "카테고리별 할인율"
   ]
  },
  {
   "cell_type": "code",
   "execution_count": null,
   "metadata": {},
   "outputs": [],
   "source": [
    "plt.figure(figsize = (15, 30))\n",
    "for idx, col in enumerate(coupon_cat):\n",
    "    plt.subplot(6, 1, idx + 1)\n",
    "    g = sns.barplot(x = coupon_list_train[col], y = coupon_list_train['PRICE_RATE'])\n",
    "    g = plt.setp(g.get_xticklabels(), rotation=20) \n",
    "plt.show()"
   ]
  },
  {
   "cell_type": "markdown",
   "metadata": {},
   "source": [
    "- 카테고리별 전시기간\n",
    "Gift card와 Health쪽이 전시기간이 높음"
   ]
  },
  {
   "cell_type": "code",
   "execution_count": null,
   "metadata": {},
   "outputs": [],
   "source": [
    "plt.figure(figsize = (15, 30))\n",
    "for idx, col in enumerate(coupon_cat):\n",
    "    plt.subplot(6, 1, idx + 1)\n",
    "    g = sns.barplot(x = coupon_list_train[col], y = coupon_list_train['DISPPERIOD'])\n",
    "    g = plt.setp(g.get_xticklabels(), rotation=20) \n",
    "plt.show()"
   ]
  },
  {
   "cell_type": "markdown",
   "metadata": {},
   "source": [
    "- 카테고리별 유효기간"
   ]
  },
  {
   "cell_type": "code",
   "execution_count": null,
   "metadata": {},
   "outputs": [],
   "source": [
    "plt.figure(figsize = (15, 30))\n",
    "for idx, col in enumerate(coupon_cat):\n",
    "    plt.subplot(6, 1, idx + 1)\n",
    "    g = sns.barplot(x = coupon_list_train[col], y = coupon_list_train['VALIDPERIOD'])\n",
    "    g = plt.setp(g.get_xticklabels(), rotation=20) \n",
    "plt.show()"
   ]
  },
  {
   "cell_type": "markdown",
   "metadata": {},
   "source": [
    "###  user_list  분석"
   ]
  },
  {
   "cell_type": "code",
   "execution_count": null,
   "metadata": {},
   "outputs": [],
   "source": [
    "user_list['WITHDRAW'] = np.where(user_list['WITHDRAW_DATE'].isna(), '회원', \"탈퇴\")"
   ]
  },
  {
   "cell_type": "code",
   "execution_count": null,
   "metadata": {},
   "outputs": [],
   "source": [
    "print('회원현황: {}'.format(len(user_list[user_list['WITHDRAW'] == '회원']) / len(user_list) * 100))"
   ]
  },
  {
   "cell_type": "code",
   "execution_count": null,
   "metadata": {},
   "outputs": [],
   "source": [
    "summary_table(user_list).pivot_table(index = ['dtype', 'name'])"
   ]
  },
  {
   "cell_type": "code",
   "execution_count": null,
   "metadata": {},
   "outputs": [],
   "source": [
    "sns.distplot(user_list['AGE'], color='g')"
   ]
  },
  {
   "cell_type": "code",
   "execution_count": null,
   "metadata": {},
   "outputs": [],
   "source": [
    "user_cat = [x for x in user_list.columns if user_list[x].dtype == 'object']\n",
    "user_cat.remove('USER_ID_hash')"
   ]
  },
  {
   "cell_type": "code",
   "execution_count": null,
   "metadata": {},
   "outputs": [],
   "source": [
    "\n",
    "plt.figure(figsize = (20,15))\n",
    "for idx, col in enumerate(user_cat):\n",
    "    plt.subplot(5,1, idx+1)\n",
    "    g = sns.countplot(user_list[col])\n",
    "    g = plt.setp(g.get_xticklabels(), rotation=20) \n",
    "plt.show()\n"
   ]
  },
  {
   "cell_type": "code",
   "execution_count": null,
   "metadata": {},
   "outputs": [],
   "source": [
    "# merge에 앞서 area_train의 PREF_NAME을 Resid_PREF로 변경\n",
    "# PREF_NAME에서 Prefecture 제거\n",
    "user_list['PREF_NAME']  = user_list['PREF_NAME'].str.replace(' Prefecture', '')\n",
    "user_list.rename(columns = {'PREF_NAME': 'Resid_PREF'}, inplace=True)"
   ]
  },
  {
   "cell_type": "markdown",
   "metadata": {},
   "source": [
    "## detail_train & visit_train"
   ]
  },
  {
   "cell_type": "code",
   "execution_count": null,
   "metadata": {},
   "outputs": [],
   "source": [
    "# detail_train에 있는 SMALL_AREA_NAME은 거주지 이므로 이름을 변경\n",
    "detail_train.rename(columns = {'SMALL_AREA_NAME': 'Resid_SAMLL_AREA'}, inplace=True)\n",
    "summary_table(detail_train).pivot_table(index=['dtype', 'name'])"
   ]
  },
  {
   "cell_type": "code",
   "execution_count": null,
   "metadata": {},
   "outputs": [],
   "source": [
    "summary_table(visit_train).pivot_table(index=['dtype', 'name'])"
   ]
  },
  {
   "cell_type": "code",
   "execution_count": null,
   "metadata": {},
   "outputs": [],
   "source": [
    "# 방문한 쿠폰수와 제공된 쿠폰 리스트가 다름 -> 보기만한 쿠폰도 있는듯\n",
    "# 보기만한 쿠폰의 경우에는 그 고객의 성향을 파악하는데 활용할 수 있음(어떤 분야에 관심을 가지는 고객인가)\n",
    "print('visit_train unique coupons: {}'.format(len(visit_train.VIEW_COUPON_ID_hash.unique())))\n",
    "print('coupon_list_train unique coupons: {}'.format(len(coupon_list_train.COUPON_ID_hash.unique())))\n",
    "print('detail_train unique coupons: {}'.format(len(detail_train.COUPON_ID_hash.unique())))"
   ]
  },
  {
   "cell_type": "code",
   "execution_count": null,
   "metadata": {},
   "outputs": [],
   "source": [
    "visit_train['Key'] = visit_train['USER_ID_hash'] + visit_train['VIEW_COUPON_ID_hash']"
   ]
  },
  {
   "cell_type": "code",
   "execution_count": null,
   "metadata": {},
   "outputs": [],
   "source": [
    "visit_lookuptable = visit_train.groupby(['Key']).count().reset_index()"
   ]
  },
  {
   "cell_type": "code",
   "execution_count": null,
   "metadata": {},
   "outputs": [],
   "source": [
    "visit_lookuptable.columns"
   ]
  },
  {
   "cell_type": "markdown",
   "metadata": {},
   "source": [
    "- detail_train에 visit 정보 매칭"
   ]
  },
  {
   "cell_type": "code",
   "execution_count": null,
   "metadata": {},
   "outputs": [],
   "source": [
    "detail_train['Key'] = detail_train['USER_ID_hash'] + detail_train['COUPON_ID_hash']"
   ]
  },
  {
   "cell_type": "code",
   "execution_count": null,
   "metadata": {},
   "outputs": [],
   "source": [
    "# visit_train으로 생성한 lookup table에 있는 view , session, referer을 가져 옴\n",
    "detail_train.insert(2, 'VIEW', detail_train['Key'].map(visit_lookuptable.set_index('Key')['VIEW_COUPON_ID_hash']))\n",
    "detail_train.insert(2, 'SESSION', detail_train['Key'].map(visit_lookuptable.set_index('Key')['SESSION_ID_hash']))\n",
    "detail_train.insert(2, 'REFERER', detail_train['Key'].map(visit_lookuptable.set_index('Key')['REFERRER_hash']))"
   ]
  },
  {
   "cell_type": "code",
   "execution_count": null,
   "metadata": {},
   "outputs": [],
   "source": [
    "summary_table(detail_train).pivot_table(index=['dtype', 'name'])"
   ]
  },
  {
   "cell_type": "markdown",
   "metadata": {},
   "source": [
    "## Merge"
   ]
  },
  {
   "cell_type": "code",
   "execution_count": null,
   "metadata": {},
   "outputs": [],
   "source": [
    "# coupon 과 user 리스트는 각 고유값으로 이루어져 있는가? -> 그렇다!\n",
    "coupon_list_train.shape[0] - len(coupon_list_train.COUPON_ID_hash.unique())\n",
    "user_list.shape[0] - len(user_list.USER_ID_hash.unique())"
   ]
  },
  {
   "cell_type": "code",
   "execution_count": null,
   "metadata": {},
   "outputs": [],
   "source": [
    "# train_detail & coupon_list_train merge\n",
    "train = detail_train.merge(coupon_list_train, on = ['COUPON_ID_hash'])"
   ]
  },
  {
   "cell_type": "code",
   "execution_count": null,
   "metadata": {},
   "outputs": [],
   "source": [
    "# train & user_list_train merge\n",
    "train = train.merge(user_list, on=['USER_ID_hash'])"
   ]
  },
  {
   "cell_type": "markdown",
   "metadata": {},
   "source": [
    "## EDA"
   ]
  },
  {
   "cell_type": "code",
   "execution_count": null,
   "metadata": {},
   "outputs": [],
   "source": [
    "summary_table(train).pivot_table(index=['dtype', 'name'])"
   ]
  },
  {
   "cell_type": "code",
   "execution_count": null,
   "metadata": {},
   "outputs": [],
   "source": [
    "train_numeric_list = [x for x in train.columns if train[x].dtype == 'float64' or train[x].dtype == 'int64']"
   ]
  },
  {
   "cell_type": "code",
   "execution_count": null,
   "metadata": {},
   "outputs": [],
   "source": [
    "train_corr = train.filter(train_numeric_list).corr()\n",
    "plt.figure(figsize = (20,10))\n",
    "mask = np.zeros_like(train_corr)\n",
    "mask[np.triu_indices_from(mask)] = True\n",
    "with sns.axes_style(\"white\"):\n",
    "    ax = sns.heatmap(train_corr, mask = mask, annot=True, fmt = \".2f\", cmap = \"YlGnBu\")"
   ]
  },
  {
   "cell_type": "markdown",
   "metadata": {},
   "source": [
    "1) 판매량(ITEM_COUT)는 VIEW와 관련 (당연)있으면서, VALID_PERIOD와 관련이 높았음\n",
    "\n",
    "2) VIEW가 할인가(DISCOUNT_PRICE)와 연관있음\n",
    "\n",
    "3) VIEW, SESSION, REFERER은 동일한 것으로 간주해도 되겠음\n",
    "\n",
    "4) 연령(AGE)와 유효기간(VALIDPERIOD)이 상관관계가 있음 0.13\n",
    "\n",
    "5) 유효기간(VALIDPERIOD)와 할인율(PRICE_RATE)가 음의 상관관계를 보임(-0.49)\n",
    "\n",
    "6) 인접한 요일들이 관련이 있다는건 몇일 연속으로 사용가능하게 했을 가능성이 높음(인접 1~2일)\n",
    "\n",
    "7) Holiday와 주말(금, 토, 일)이 상관관계가 높음. 주말을 활용한 특정기간 할인이 많았음을 보여줌 -> 하지만 판매량(ITEM_COUNT)와 조회(VIEW)에는 직접적인 영향은 못 미친듯"
   ]
  },
  {
   "cell_type": "code",
   "execution_count": null,
   "metadata": {},
   "outputs": [],
   "source": []
  }
 ],
 "metadata": {
  "kernelspec": {
   "display_name": "Python 3",
   "language": "python",
   "name": "python3"
  },
  "language_info": {
   "codemirror_mode": {
    "name": "ipython",
    "version": 3
   },
   "file_extension": ".py",
   "mimetype": "text/x-python",
   "name": "python",
   "nbconvert_exporter": "python",
   "pygments_lexer": "ipython3",
   "version": "3.6.4"
  }
 },
 "nbformat": 4,
 "nbformat_minor": 2
}
